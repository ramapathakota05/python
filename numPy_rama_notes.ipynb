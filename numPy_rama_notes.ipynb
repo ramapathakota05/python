{
 "cells": [
  {
   "cell_type": "markdown",
   "metadata": {},
   "source": [
    "## Numpy Tutorials\n",
    "\n",
    "NumPy is a general-purpose array-processing package. It provides a high-performance multidimensional array object, and tools for working with these arrays. It is the fundamental package for scientific computing with Python\n",
    "\n",
    "### What is an array\n",
    "\n",
    "An array is a data structure that stores values of same data type. In Python, this is the main difference between arrays and lists. While python lists can contain values corresponding to different data types, arrays in python can only contain values corresponding to same data type"
   ]
  },
  {
   "cell_type": "code",
   "execution_count": 1,
   "metadata": {},
   "outputs": [],
   "source": [
    "## first install numpy using the command \"pip install numpy\" Then import numpy library \n",
    "\n",
    "import numpy as np"
   ]
  },
  {
   "cell_type": "code",
   "execution_count": 2,
   "metadata": {},
   "outputs": [],
   "source": [
    "## An exmaple showing converting list into an array using an array in-built function in numpy\n",
    "\n",
    "list=[1,2,3,4,5,6]\n",
    "\n",
    "list_to_array =np.array(list)"
   ]
  },
  {
   "cell_type": "code",
   "execution_count": 3,
   "metadata": {},
   "outputs": [
    {
     "name": "stdout",
     "output_type": "stream",
     "text": [
      "[1 2 3 4 5 6]\n"
     ]
    }
   ],
   "source": [
    "## from the output it can be seen that the list is converted into array which is 1D (one square bracket as oepning and one square bracket as closing) \n",
    "## and the elements are not separated by comma\n",
    "\n",
    "print(list_to_array)\n"
   ]
  },
  {
   "cell_type": "code",
   "execution_count": 4,
   "metadata": {},
   "outputs": [
    {
     "data": {
      "text/plain": [
       "(6,)"
      ]
     },
     "execution_count": 4,
     "metadata": {},
     "output_type": "execute_result"
    }
   ],
   "source": [
    "## we can also tell if its 1D , 2D or multi dimensional using shape function it tells the no of elements in rows and columns\n",
    "\n",
    "list_to_array.shape\n",
    "\n",
    "## here the output is 5 rows and no columns which is a 1D array..\n"
   ]
  },
  {
   "cell_type": "code",
   "execution_count": 5,
   "metadata": {},
   "outputs": [
    {
     "data": {
      "text/plain": [
       "array([[1, 2, 3, 4, 5, 6]])"
      ]
     },
     "execution_count": 5,
     "metadata": {},
     "output_type": "execute_result"
    }
   ],
   "source": [
    "## the above 1D is converted to 2D array using an inbuilt reshape function where you tell the number of rows and columns..but make sure the total number \n",
    "## should be same i.e in 2D we have 6 elements, so to reshape, we can have 2x3 or 3x2 or 1x6, or 6x1\n",
    "\n",
    "\n",
    "list_to_array.reshape(1,6)\n",
    "\n",
    "## though the output visually looks like 1D, but its 2D because you can count 2 opening and closing square brackets"
   ]
  },
  {
   "cell_type": "code",
   "execution_count": 6,
   "metadata": {},
   "outputs": [
    {
     "name": "stdout",
     "output_type": "stream",
     "text": [
      "[[ 1  2  3  4  5]\n",
      " [ 6  7  8  9 10]\n",
      " [ 0  4  5  3  2]]\n"
     ]
    }
   ],
   "source": [
    "## Multi nested array (mna)\n",
    "list1=[1,2,3,4,5]\n",
    "list2=[6,7,8,9,10]\n",
    "list3=[0,4,5,3,2,]\n",
    "\n",
    "mna = np.array([list1,list2,list3])\n",
    "print(mna)\n",
    "\n",
    "## output here shows, 5 rows and 3 coulumns..we can check its shape\n",
    "##  using shape function and also can reshape it "
   ]
  },
  {
   "cell_type": "code",
   "execution_count": 7,
   "metadata": {},
   "outputs": [
    {
     "data": {
      "text/plain": [
       "(3, 5)"
      ]
     },
     "execution_count": 7,
     "metadata": {},
     "output_type": "execute_result"
    }
   ],
   "source": [
    "mna.shape"
   ]
  },
  {
   "cell_type": "code",
   "execution_count": 8,
   "metadata": {},
   "outputs": [
    {
     "data": {
      "text/plain": [
       "array([[ 1,  2,  3],\n",
       "       [ 4,  5,  6],\n",
       "       [ 7,  8,  9],\n",
       "       [10,  0,  4],\n",
       "       [ 5,  3,  2]])"
      ]
     },
     "execution_count": 8,
     "metadata": {},
     "output_type": "execute_result"
    }
   ],
   "source": [
    "mna.reshape(5,3)\n",
    "## here you can see the above 3rows and 5columns has been reshaped\n",
    "## for that we need to make sure total elements are same..ie 15, \n",
    "## only then it works...say if you have 12 elements, then it can be\n",
    "## reshaped manyways as 3x4, 4x3, 2x6, 6x2, 1x12, 12x1 \n"
   ]
  },
  {
   "cell_type": "code",
   "execution_count": 9,
   "metadata": {},
   "outputs": [
    {
     "name": "stdout",
     "output_type": "stream",
     "text": [
      "[1 2 3 4]\n"
     ]
    }
   ],
   "source": [
    "## Accessing the array elements (Indexing - similar to how indexing was used to retrieve or access the elements the datastructures of lists, sets,\n",
    "## tuples and dicts..lets learn how to access elements from numpy array.\n",
    "\n",
    "a = np.array([1,2,3,4])\n",
    "print(a)"
   ]
  },
  {
   "cell_type": "code",
   "execution_count": 10,
   "metadata": {},
   "outputs": [
    {
     "data": {
      "text/plain": [
       "4"
      ]
     },
     "execution_count": 10,
     "metadata": {},
     "output_type": "execute_result"
    }
   ],
   "source": [
    "## To access the number 4 from 1D array, we know that its index is 3 as the indexing starts from 0.\n",
    "a[3]"
   ]
  },
  {
   "cell_type": "code",
   "execution_count": 11,
   "metadata": {},
   "outputs": [
    {
     "name": "stdout",
     "output_type": "stream",
     "text": [
      "[[ 1  2  3  4]\n",
      " [ 5  6  7  8]\n",
      " [ 9 10 11 12]]\n"
     ]
    }
   ],
   "source": [
    "## lets check how to access the elements from multi nested array..\n",
    "\n",
    "multi = np.array([[1,2,3,4],[5,6,7,8],[9,10,11,12]])\n",
    "print(multi)"
   ]
  },
  {
   "cell_type": "code",
   "execution_count": 12,
   "metadata": {},
   "outputs": [
    {
     "data": {
      "text/plain": [
       "array([6, 7, 8])"
      ]
     },
     "execution_count": 12,
     "metadata": {},
     "output_type": "execute_result"
    }
   ],
   "source": [
    "## so the above 2D array has 3 rows and 4 columns...so to access elements 6,7,8..which row2 and column2,3,4..\n",
    "\n",
    "## multi[ :, :]..to access elements from multi array. the values on left side colon reprsents rows and right side represents coluns..\n",
    "## so to access row2 and coumn2,3,4..\n",
    "\n",
    "multi[1,1:]"
   ]
  },
  {
   "cell_type": "code",
   "execution_count": 13,
   "metadata": {},
   "outputs": [
    {
     "name": "stdout",
     "output_type": "stream",
     "text": [
      "[0 2 4 6 8]\n",
      "[0.         0.55555556 1.11111111 1.66666667 2.22222222 2.77777778\n",
      " 3.33333333 3.88888889 4.44444444 5.        ]\n"
     ]
    }
   ],
   "source": [
    "## useful inbuilt functions of array..i,e arange...a range...start, stop and step of 2..this creates a 1D array\n",
    "\n",
    "range = np.arange(0,10,2)\n",
    "print(range)\n",
    "\n",
    "## another useful inbuilt functions of array..i,e linspace...we use it in deep learning, sometimes we need to intiailise etc..that time we use this\n",
    "\n",
    "linspace = np.linspace(0,5,num=10)\n",
    "print(linspace)"
   ]
  },
  {
   "cell_type": "code",
   "execution_count": 14,
   "metadata": {},
   "outputs": [
    {
     "name": "stdout",
     "output_type": "stream",
     "text": [
      "[ 1  2  3  4 10 10 10 10 10]\n",
      "[ 1  2  3  4 10 10 10 10 10]\n",
      "[  1   2   3   4 100 100 100 100 100]\n",
      "[  1   2   3   4 100 100 100 100 100]\n"
     ]
    }
   ],
   "source": [
    "## copy function and broadcasting...in below 1D array, im asking to replace all elements from 4th index to be replaced by 10..\n",
    "\n",
    "a = np.array([1,2,3,4,5,6,7,8,9])\n",
    "a[4:]=10\n",
    "print(a)\n",
    "\n",
    "b=a\n",
    "print(b)\n",
    "b[4:]=100\n",
    "print(b)\n",
    "print(a) \n",
    "\n"
   ]
  },
  {
   "cell_type": "code",
   "execution_count": 15,
   "metadata": {},
   "outputs": [
    {
     "name": "stdout",
     "output_type": "stream",
     "text": [
      "[  1   2   3   4 100 100 100 100 100]\n",
      "[1 2 3 4 0 0 0 0 0]\n",
      "[  1   2   3   4 100 100 100 100 100]\n"
     ]
    }
   ],
   "source": [
    "## in here you can see that the variable a is also updated  same as b, this is because as array is reference type, which means\n",
    "## that the 2 varaibles stored in same memory, which means any update on one variable will replicate that to other varriable aswell\n",
    "\n",
    "## so to prevent that we have something called as copy()..i.e b is now creating another memory space of the a variable values, so its not being shared \n",
    "## from same memory\n",
    "\n",
    "b=a.copy()\n",
    "print(b)\n",
    "b[4:]=0.0\n",
    "print(b)\n",
    "print(a)\n"
   ]
  },
  {
   "cell_type": "code",
   "execution_count": 16,
   "metadata": {},
   "outputs": [
    {
     "data": {
      "text/plain": [
       "array([False, False,  True, False])"
      ]
     },
     "execution_count": 16,
     "metadata": {},
     "output_type": "execute_result"
    }
   ],
   "source": [
    "### Some conditions very useful in Exploratory Data Analysis \n",
    "\n",
    "value_check = np.array([10,2,50,4])\n",
    "value_check>10"
   ]
  },
  {
   "cell_type": "code",
   "execution_count": 17,
   "metadata": {},
   "outputs": [
    {
     "data": {
      "text/plain": [
       "array([50])"
      ]
     },
     "execution_count": 17,
     "metadata": {},
     "output_type": "execute_result"
    }
   ],
   "source": [
    "### if i want the valyes that are greater than 5, then we just need to put the condition in square bracket\n",
    "\n",
    "value_check[value_check>10]"
   ]
  },
  {
   "cell_type": "code",
   "execution_count": 18,
   "metadata": {},
   "outputs": [
    {
     "data": {
      "text/plain": [
       "array([100, 200, 300, 400])"
      ]
     },
     "execution_count": 18,
     "metadata": {},
     "output_type": "execute_result"
    }
   ],
   "source": [
    "mul = np.array([1,2,3,4])\n",
    "mul*100"
   ]
  },
  {
   "cell_type": "code",
   "execution_count": 19,
   "metadata": {},
   "outputs": [
    {
     "data": {
      "text/plain": [
       "array([ 1,  2,  3,  4,  5,  6,  7,  8,  9, 10, 11, 12])"
      ]
     },
     "execution_count": 19,
     "metadata": {},
     "output_type": "execute_result"
    }
   ],
   "source": [
    "## Create arrays and reshape in one line...i.e range of numbers 1 to 12 using a range function and then reshape it to 1D \n",
    "\n",
    "np.arange(1,13).reshape(12,)"
   ]
  },
  {
   "cell_type": "code",
   "execution_count": 20,
   "metadata": {},
   "outputs": [
    {
     "data": {
      "text/plain": [
       "array([[ 1,  2,  3,  4],\n",
       "       [ 5,  6,  7,  8],\n",
       "       [ 9, 10, 11, 12]])"
      ]
     },
     "execution_count": 20,
     "metadata": {},
     "output_type": "execute_result"
    }
   ],
   "source": [
    "## Create arrays and reshape in one line...i.e range of numbers 1 to 12 using a range function and then reshape it to 2D\n",
    "\n",
    "np.arange(1,13).reshape(3,4)\n"
   ]
  },
  {
   "cell_type": "code",
   "execution_count": 21,
   "metadata": {},
   "outputs": [
    {
     "data": {
      "text/plain": [
       "array([1., 1., 1., 1.])"
      ]
     },
     "execution_count": 21,
     "metadata": {},
     "output_type": "execute_result"
    }
   ],
   "source": [
    "## somemore useful inbuilt function is an np.ones...it creates an array that all elements are replaced by 1..\n",
    "## by default dtype is float (you can change to int)...here it created 1D array 0f 4 elements with number 1 \n",
    "\n",
    "np.ones(4) "
   ]
  },
  {
   "cell_type": "code",
   "execution_count": 22,
   "metadata": {},
   "outputs": [
    {
     "data": {
      "text/plain": [
       "array([[1, 1, 1, 1, 1],\n",
       "       [1, 1, 1, 1, 1]])"
      ]
     },
     "execution_count": 22,
     "metadata": {},
     "output_type": "execute_result"
    }
   ],
   "source": [
    "## to create 2D array of np.ones\n",
    "\n",
    "np.ones((2,5),dtype=int)"
   ]
  },
  {
   "cell_type": "code",
   "execution_count": 23,
   "metadata": {},
   "outputs": [
    {
     "data": {
      "text/plain": [
       "array([[0.50377274, 0.35537046, 0.790313  ],\n",
       "       [0.22023145, 0.2482135 , 0.18078556],\n",
       "       [0.57808307, 0.85874183, 0.18720354]])"
      ]
     },
     "execution_count": 23,
     "metadata": {},
     "output_type": "execute_result"
    }
   ],
   "source": [
    "## somemore inbuilt function...random distribution...rand function asking to select the sample based on unifrom distribution\n",
    "np.random.rand(3,3)"
   ]
  },
  {
   "cell_type": "code",
   "execution_count": 24,
   "metadata": {},
   "outputs": [
    {
     "data": {
      "text/plain": [
       "array([[ 1.21945783,  1.17938822,  0.07081785,  1.19033292],\n",
       "       [ 1.36359835, -0.15927391, -0.17246341,  0.0092528 ],\n",
       "       [-0.96618218,  0.35965643,  0.71295307, -0.81131242],\n",
       "       [ 0.59076752,  1.72960207, -1.21607378, -0.61932753]])"
      ]
     },
     "execution_count": 24,
     "metadata": {},
     "output_type": "execute_result"
    }
   ],
   "source": [
    "## randn saying that select the sample based on stanadard normal distribution\n",
    "np.random.randn(4,4)"
   ]
  },
  {
   "cell_type": "code",
   "execution_count": 25,
   "metadata": {},
   "outputs": [
    {
     "data": {
      "text/plain": [
       "array([[99, 61],\n",
       "       [48, 30],\n",
       "       [17, 96],\n",
       "       [34, 27]])"
      ]
     },
     "execution_count": 25,
     "metadata": {},
     "output_type": "execute_result"
    }
   ],
   "source": [
    "## randn saying that select 8 integers from 0 to 100 range ...and make it 2D using reshape\n",
    "\n",
    "np.random.randint(0,100,8).reshape(4,2)"
   ]
  },
  {
   "cell_type": "code",
   "execution_count": 26,
   "metadata": {},
   "outputs": [
    {
     "data": {
      "text/plain": [
       "array([[0.66143724, 0.76567094, 0.33150429, 0.41307138, 0.98077468]])"
      ]
     },
     "execution_count": 26,
     "metadata": {},
     "output_type": "execute_result"
    }
   ],
   "source": [
    "np.random.random_sample((1,5))"
   ]
  },
  {
   "cell_type": "code",
   "execution_count": null,
   "metadata": {},
   "outputs": [],
   "source": []
  },
  {
   "cell_type": "code",
   "execution_count": null,
   "metadata": {},
   "outputs": [],
   "source": []
  }
 ],
 "metadata": {
  "kernelspec": {
   "display_name": "Python 3 (ipykernel)",
   "language": "python",
   "name": "python3"
  },
  "language_info": {
   "codemirror_mode": {
    "name": "ipython",
    "version": 3
   },
   "file_extension": ".py",
   "mimetype": "text/x-python",
   "name": "python",
   "nbconvert_exporter": "python",
   "pygments_lexer": "ipython3",
   "version": "3.11.7"
  }
 },
 "nbformat": 4,
 "nbformat_minor": 4
}
