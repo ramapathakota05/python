{
 "cells": [
  {
   "cell_type": "markdown",
   "metadata": {},
   "source": [
    "1) Import numpy\n",
    "2) Convert lists into array\n",
    "3) useful inbuilt functions - shape vs reshape\n"
   ]
  },
  {
   "cell_type": "code",
   "execution_count": 1,
   "metadata": {},
   "outputs": [],
   "source": [
    "## first install numpy using the command \"pip install numpy\" Then import numpy library \n",
    "\n",
    "import numpy as np"
   ]
  },
  {
   "cell_type": "code",
   "execution_count": 2,
   "metadata": {},
   "outputs": [],
   "source": [
    "## An exmaple showing converting list into an array using an array in-built function in numpy\n",
    "\n",
    "list=[1,2,3,4,5,6]\n",
    "\n",
    "list_to_array =np.array(list)"
   ]
  },
  {
   "cell_type": "code",
   "execution_count": 3,
   "metadata": {},
   "outputs": [
    {
     "name": "stdout",
     "output_type": "stream",
     "text": [
      "[1 2 3 4 5 6]\n"
     ]
    }
   ],
   "source": [
    "## from the output it can be seen that the list is converted into array which is 1D (one square bracket as oepning and one square bracket as closing) \n",
    "## and the elements are not separated by comma\n",
    "\n",
    "print(list_to_array)\n"
   ]
  },
  {
   "cell_type": "code",
   "execution_count": 4,
   "metadata": {},
   "outputs": [
    {
     "data": {
      "text/plain": [
       "(6,)"
      ]
     },
     "execution_count": 4,
     "metadata": {},
     "output_type": "execute_result"
    }
   ],
   "source": [
    "## we can also tell if its 1D , 2D or multi dimensional using shape function it tells the no of elements in rows and columns\n",
    "\n",
    "list_to_array.shape\n",
    "\n",
    "## here the output is 5 rows and no columns which is a 1D array..\n"
   ]
  },
  {
   "cell_type": "code",
   "execution_count": 5,
   "metadata": {},
   "outputs": [
    {
     "data": {
      "text/plain": [
       "array([[1, 2, 3, 4, 5, 6]])"
      ]
     },
     "execution_count": 5,
     "metadata": {},
     "output_type": "execute_result"
    }
   ],
   "source": [
    "## the above 1D is converted to 2D array using an inbuilt reshape function where you tell the number of rows and columns..but make sure the total number \n",
    "## should be same i.e in 2D we have 6 elements, so to reshape, we can have 2x3 or 3x2 or 1x6, or 6x1\n",
    "\n",
    "\n",
    "list_to_array.reshape(1,6)\n",
    "\n",
    "## though the output visually looks like 1D, but its 2D because you can count 2 opening and closing square brackets"
   ]
  },
  {
   "cell_type": "code",
   "execution_count": 6,
   "metadata": {},
   "outputs": [
    {
     "name": "stdout",
     "output_type": "stream",
     "text": [
      "[[ 1  2  3  4  5]\n",
      " [ 6  7  8  9 10]\n",
      " [ 0  4  5  3  2]]\n"
     ]
    }
   ],
   "source": [
    "## Multi nested array (mna)\n",
    "list1=[1,2,3,4,5]\n",
    "list2=[6,7,8,9,10]\n",
    "list3=[0,4,5,3,2,]\n",
    "\n",
    "mna = np.array([list1,list2,list3])\n",
    "print(mna)\n",
    "\n",
    "## output here shows, 5 rows and 3 coulumns..we can check its shape\n",
    "##  using shape function and also can reshape it "
   ]
  },
  {
   "cell_type": "code",
   "execution_count": 7,
   "metadata": {},
   "outputs": [
    {
     "data": {
      "text/plain": [
       "(3, 5)"
      ]
     },
     "execution_count": 7,
     "metadata": {},
     "output_type": "execute_result"
    }
   ],
   "source": [
    "mna.shape"
   ]
  },
  {
   "cell_type": "code",
   "execution_count": 8,
   "metadata": {},
   "outputs": [
    {
     "data": {
      "text/plain": [
       "array([[ 1,  2,  3],\n",
       "       [ 4,  5,  6],\n",
       "       [ 7,  8,  9],\n",
       "       [10,  0,  4],\n",
       "       [ 5,  3,  2]])"
      ]
     },
     "execution_count": 8,
     "metadata": {},
     "output_type": "execute_result"
    }
   ],
   "source": [
    "mna.reshape(5,3)\n",
    "## here you can see the above 3rows and 5columns has been reshaped\n",
    "## for that we need to make sure total elements are same..ie 15, \n",
    "## only then it works...say if you have 12 elements, then it can be\n",
    "## reshaped manyways as 3x4, 4x3, 2x6, 6x2, 1x12, 12x1 \n"
   ]
  },
  {
   "cell_type": "code",
   "execution_count": null,
   "metadata": {},
   "outputs": [],
   "source": []
  }
 ],
 "metadata": {
  "kernelspec": {
   "display_name": "Python 3 (ipykernel)",
   "language": "python",
   "name": "python3"
  },
  "language_info": {
   "codemirror_mode": {
    "name": "ipython",
    "version": 3
   },
   "file_extension": ".py",
   "mimetype": "text/x-python",
   "name": "python",
   "nbconvert_exporter": "python",
   "pygments_lexer": "ipython3",
   "version": "3.11.7"
  }
 },
 "nbformat": 4,
 "nbformat_minor": 4
}
