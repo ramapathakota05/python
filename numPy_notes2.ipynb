{
 "cells": [
  {
   "cell_type": "markdown",
   "metadata": {},
   "source": [
    "1) Indexing arrays\n",
    "2) Array reference type vs copy function\n"
   ]
  },
  {
   "cell_type": "code",
   "execution_count": 1,
   "metadata": {},
   "outputs": [
    {
     "name": "stdout",
     "output_type": "stream",
     "text": [
      "[1 2 3 4]\n"
     ]
    }
   ],
   "source": [
    "import numpy as np \n",
    "## Accessing the array elements (Indexing - similar to how indexing was used to retrieve or access the elements the datastructures of lists, sets,\n",
    "## tuples and dicts..lets learn how to access elements from numpy array.\n",
    "\n",
    "a = np.array([1,2,3,4])\n",
    "print(a)"
   ]
  },
  {
   "cell_type": "code",
   "execution_count": 2,
   "metadata": {},
   "outputs": [
    {
     "data": {
      "text/plain": [
       "4"
      ]
     },
     "execution_count": 2,
     "metadata": {},
     "output_type": "execute_result"
    }
   ],
   "source": [
    "## To access the number 4 from 1D array, we know that its index is 3 as the indexing starts from 0.\n",
    "a[3]"
   ]
  },
  {
   "cell_type": "code",
   "execution_count": 3,
   "metadata": {},
   "outputs": [
    {
     "name": "stdout",
     "output_type": "stream",
     "text": [
      "[[ 1  2  3  4]\n",
      " [ 5  6  7  8]\n",
      " [ 9 10 11 12]]\n"
     ]
    }
   ],
   "source": [
    "## lets check how to access the elements from multi nested array..\n",
    "\n",
    "multi = np.array([[1,2,3,4],[5,6,7,8],[9,10,11,12]])\n",
    "print(multi)"
   ]
  },
  {
   "cell_type": "code",
   "execution_count": 4,
   "metadata": {},
   "outputs": [
    {
     "data": {
      "text/plain": [
       "array([6, 7, 8])"
      ]
     },
     "execution_count": 4,
     "metadata": {},
     "output_type": "execute_result"
    }
   ],
   "source": [
    "## so the above 2D array has 3 rows and 4 columns...so to access elements 6,7,8..which row2 and column2,3,4..\n",
    "\n",
    "## multi[ :, :]..to access elements from multi array. the values on left side colon reprsents rows and right side represents coluns..\n",
    "## so to access row2 and coumn2,3,4..\n",
    "\n",
    "multi[1,1:]"
   ]
  },
  {
   "cell_type": "code",
   "execution_count": 5,
   "metadata": {},
   "outputs": [
    {
     "name": "stdout",
     "output_type": "stream",
     "text": [
      "[ 1  2  3  4 10 10 10 10 10]\n",
      "[ 1  2  3  4 10 10 10 10 10]\n",
      "[  1   2   3   4 100 100 100 100 100]\n",
      "[  1   2   3   4 100 100 100 100 100]\n"
     ]
    }
   ],
   "source": [
    "## copy function and broadcasting...in below 1D array, im asking to replace all elements from 4th index to be replaced by 10..\n",
    "\n",
    "a = np.array([1,2,3,4,5,6,7,8,9])\n",
    "a[4:]=10\n",
    "print(a)\n",
    "\n",
    "b=a\n",
    "print(b)\n",
    "b[4:]=100\n",
    "print(b)\n",
    "print(a) \n",
    "\n"
   ]
  },
  {
   "cell_type": "code",
   "execution_count": 6,
   "metadata": {},
   "outputs": [
    {
     "name": "stdout",
     "output_type": "stream",
     "text": [
      "[  1   2   3   4 100 100 100 100 100]\n",
      "[1 2 3 4 0 0 0 0 0]\n",
      "[  1   2   3   4 100 100 100 100 100]\n"
     ]
    }
   ],
   "source": [
    "## in here you can see that the variable a is also updated  same as b, this is because as array is reference type, which means\n",
    "## that the 2 varaibles stored in same memory, which means any update on one variable will replicate that to other varriable aswell\n",
    "\n",
    "## so to prevent that we have something called as copy()..i.e b is now creating another memory space of the a variable values, so its not being shared \n",
    "## from same memory\n",
    "\n",
    "b=a.copy()\n",
    "print(b)\n",
    "b[4:]=0.0\n",
    "print(b)\n",
    "print(a)\n"
   ]
  },
  {
   "cell_type": "code",
   "execution_count": null,
   "metadata": {},
   "outputs": [],
   "source": []
  },
  {
   "cell_type": "code",
   "execution_count": null,
   "metadata": {},
   "outputs": [],
   "source": []
  }
 ],
 "metadata": {
  "kernelspec": {
   "display_name": "Python 3 (ipykernel)",
   "language": "python",
   "name": "python3"
  },
  "language_info": {
   "codemirror_mode": {
    "name": "ipython",
    "version": 3
   },
   "file_extension": ".py",
   "mimetype": "text/x-python",
   "name": "python",
   "nbconvert_exporter": "python",
   "pygments_lexer": "ipython3",
   "version": "3.11.7"
  }
 },
 "nbformat": 4,
 "nbformat_minor": 4
}
